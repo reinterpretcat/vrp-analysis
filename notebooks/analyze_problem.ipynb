{
 "metadata": {
  "language_info": {
   "codemirror_mode": {
    "name": "ipython",
    "version": 3
   },
   "file_extension": ".py",
   "mimetype": "text/x-python",
   "name": "python",
   "nbconvert_exporter": "python",
   "pygments_lexer": "ipython3",
   "version": "3.7.7"
  },
  "orig_nbformat": 4,
  "kernelspec": {
   "name": "python3",
   "display_name": "Python 3.7.7 64-bit ('3.7.7': pyenv)"
  },
  "interpreter": {
   "hash": "8d5310c64c2ae6ec3adda6e673182880225e3e26ee79bf33c9003ba0247c50a8"
  }
 },
 "nbformat": 4,
 "nbformat_minor": 2,
 "cells": [
  {
   "source": [
    "# Analyze problem\n",
    "\n",
    "* the problem is expected in pragmatic format"
   ],
   "cell_type": "markdown",
   "metadata": {}
  },
  {
   "cell_type": "code",
   "execution_count": 18,
   "metadata": {},
   "outputs": [],
   "source": [
    "# run this to install dependencies\n",
    "#!{sys.executable} -m pip install pandas matplotlib ipyleaflet\n",
    "\n",
    "import json\n",
    "import pandas as pd\n",
    "import matplotlib.pyplot as plt\n",
    "\n",
    "# change to your problem\n",
    "problem_path = \"../experiments/demo/problems/simple.multi-job.25.json\"\n",
    "\n",
    "# change amount of rows displayed by data frame\n",
    "# pd.set_option('display.max_rows', None)\n",
    "\n",
    "with open(problem_path) as problem_file:\n",
    "    problem = json.load(problem_file)"
   ]
  },
  {
   "source": [
    "## Plan"
   ],
   "cell_type": "markdown",
   "metadata": {}
  },
  {
   "cell_type": "code",
   "execution_count": 19,
   "metadata": {},
   "outputs": [],
   "source": [
    "plan = problem['plan']\n",
    "jobs = pd.json_normalize(plan, record_path=['jobs'])\n",
    "\n",
    "# show summary of jobs\n",
    "jobs_summary = jobs.apply(lambda job: pd.concat([\n",
    "    pd.Series([job['id'], len(job['pickups']), len(job['deliveries'])], index=['id', 'pickups', 'deliveries']),\n",
    "    job.filter(regex = 'skills*')]), axis=1\n",
    ")\n"
   ]
  },
  {
   "cell_type": "code",
   "execution_count": 20,
   "metadata": {},
   "outputs": [
    {
     "output_type": "execute_result",
     "data": {
      "text/plain": [
       "   deliveries  pickups\n",
       "1          15       15\n",
       "3          10       10"
      ],
      "text/html": "<div>\n<style scoped>\n    .dataframe tbody tr th:only-of-type {\n        vertical-align: middle;\n    }\n\n    .dataframe tbody tr th {\n        vertical-align: top;\n    }\n\n    .dataframe thead th {\n        text-align: right;\n    }\n</style>\n<table border=\"1\" class=\"dataframe\">\n  <thead>\n    <tr style=\"text-align: right;\">\n      <th></th>\n      <th>deliveries</th>\n      <th>pickups</th>\n    </tr>\n  </thead>\n  <tbody>\n    <tr>\n      <th>1</th>\n      <td>15</td>\n      <td>15</td>\n    </tr>\n    <tr>\n      <th>3</th>\n      <td>10</td>\n      <td>10</td>\n    </tr>\n  </tbody>\n</table>\n</div>"
     },
     "metadata": {},
     "execution_count": 20
    }
   ],
   "source": [
    "# get size of pickups and deliveries\n",
    "\n",
    "pd.concat([jobs_summary.groupby('pickups').count(), jobs_summary.groupby('deliveries').count()], axis=1).drop(list(jobs_summary.filter(regex='id|skills*')), axis=1)"
   ]
  },
  {
   "cell_type": "code",
   "execution_count": 21,
   "metadata": {},
   "outputs": [
    {
     "output_type": "execute_result",
     "data": {
      "text/plain": [
       "      0    1    2\n",
       "0   [3]  NaN  NaN\n",
       "1   [1]  [1]  [1]\n",
       "2   [1]  [1]  [1]\n",
       "3   [3]  NaN  NaN\n",
       "4   [1]  NaN  NaN\n",
       "5   [1]  [1]  [1]\n",
       "6   [1]  [1]  [1]\n",
       "7   [1]  [1]  [1]\n",
       "8   [1]  [1]  [1]\n",
       "9   [1]  NaN  NaN\n",
       "10  [3]  NaN  NaN\n",
       "11  [1]  [1]  [1]\n",
       "12  [1]  [1]  [1]\n",
       "13  [3]  NaN  NaN\n",
       "14  [1]  [1]  [1]\n",
       "15  [1]  [1]  [1]\n",
       "16  [3]  NaN  NaN\n",
       "17  [1]  NaN  NaN\n",
       "18  [3]  NaN  NaN\n",
       "19  [1]  NaN  NaN\n",
       "20  [3]  NaN  NaN\n",
       "21  [3]  NaN  NaN\n",
       "22  [1]  NaN  NaN\n",
       "23  [3]  NaN  NaN\n",
       "24  [3]  NaN  NaN"
      ],
      "text/html": "<div>\n<style scoped>\n    .dataframe tbody tr th:only-of-type {\n        vertical-align: middle;\n    }\n\n    .dataframe tbody tr th {\n        vertical-align: top;\n    }\n\n    .dataframe thead th {\n        text-align: right;\n    }\n</style>\n<table border=\"1\" class=\"dataframe\">\n  <thead>\n    <tr style=\"text-align: right;\">\n      <th></th>\n      <th>0</th>\n      <th>1</th>\n      <th>2</th>\n    </tr>\n  </thead>\n  <tbody>\n    <tr>\n      <th>0</th>\n      <td>[3]</td>\n      <td>NaN</td>\n      <td>NaN</td>\n    </tr>\n    <tr>\n      <th>1</th>\n      <td>[1]</td>\n      <td>[1]</td>\n      <td>[1]</td>\n    </tr>\n    <tr>\n      <th>2</th>\n      <td>[1]</td>\n      <td>[1]</td>\n      <td>[1]</td>\n    </tr>\n    <tr>\n      <th>3</th>\n      <td>[3]</td>\n      <td>NaN</td>\n      <td>NaN</td>\n    </tr>\n    <tr>\n      <th>4</th>\n      <td>[1]</td>\n      <td>NaN</td>\n      <td>NaN</td>\n    </tr>\n    <tr>\n      <th>5</th>\n      <td>[1]</td>\n      <td>[1]</td>\n      <td>[1]</td>\n    </tr>\n    <tr>\n      <th>6</th>\n      <td>[1]</td>\n      <td>[1]</td>\n      <td>[1]</td>\n    </tr>\n    <tr>\n      <th>7</th>\n      <td>[1]</td>\n      <td>[1]</td>\n      <td>[1]</td>\n    </tr>\n    <tr>\n      <th>8</th>\n      <td>[1]</td>\n      <td>[1]</td>\n      <td>[1]</td>\n    </tr>\n    <tr>\n      <th>9</th>\n      <td>[1]</td>\n      <td>NaN</td>\n      <td>NaN</td>\n    </tr>\n    <tr>\n      <th>10</th>\n      <td>[3]</td>\n      <td>NaN</td>\n      <td>NaN</td>\n    </tr>\n    <tr>\n      <th>11</th>\n      <td>[1]</td>\n      <td>[1]</td>\n      <td>[1]</td>\n    </tr>\n    <tr>\n      <th>12</th>\n      <td>[1]</td>\n      <td>[1]</td>\n      <td>[1]</td>\n    </tr>\n    <tr>\n      <th>13</th>\n      <td>[3]</td>\n      <td>NaN</td>\n      <td>NaN</td>\n    </tr>\n    <tr>\n      <th>14</th>\n      <td>[1]</td>\n      <td>[1]</td>\n      <td>[1]</td>\n    </tr>\n    <tr>\n      <th>15</th>\n      <td>[1]</td>\n      <td>[1]</td>\n      <td>[1]</td>\n    </tr>\n    <tr>\n      <th>16</th>\n      <td>[3]</td>\n      <td>NaN</td>\n      <td>NaN</td>\n    </tr>\n    <tr>\n      <th>17</th>\n      <td>[1]</td>\n      <td>NaN</td>\n      <td>NaN</td>\n    </tr>\n    <tr>\n      <th>18</th>\n      <td>[3]</td>\n      <td>NaN</td>\n      <td>NaN</td>\n    </tr>\n    <tr>\n      <th>19</th>\n      <td>[1]</td>\n      <td>NaN</td>\n      <td>NaN</td>\n    </tr>\n    <tr>\n      <th>20</th>\n      <td>[3]</td>\n      <td>NaN</td>\n      <td>NaN</td>\n    </tr>\n    <tr>\n      <th>21</th>\n      <td>[3]</td>\n      <td>NaN</td>\n      <td>NaN</td>\n    </tr>\n    <tr>\n      <th>22</th>\n      <td>[1]</td>\n      <td>NaN</td>\n      <td>NaN</td>\n    </tr>\n    <tr>\n      <th>23</th>\n      <td>[3]</td>\n      <td>NaN</td>\n      <td>NaN</td>\n    </tr>\n    <tr>\n      <th>24</th>\n      <td>[3]</td>\n      <td>NaN</td>\n      <td>NaN</td>\n    </tr>\n  </tbody>\n</table>\n</div>"
     },
     "metadata": {},
     "execution_count": 21
    }
   ],
   "source": [
    "# get pickup demand\n",
    "\n",
    "jobs.apply(\n",
    "    lambda job: pd.json_normalize(job['pickups'])['demand'],\n",
    "    axis=1\n",
    ")"
   ]
  },
  {
   "cell_type": "code",
   "execution_count": 22,
   "metadata": {},
   "outputs": [
    {
     "output_type": "execute_result",
     "data": {
      "text/plain": [
       "      0    1    2\n",
       "0   [1]  [1]  [1]\n",
       "1   [3]  NaN  NaN\n",
       "2   [3]  NaN  NaN\n",
       "3   [1]  [1]  [1]\n",
       "4   [1]  NaN  NaN\n",
       "5   [3]  NaN  NaN\n",
       "6   [3]  NaN  NaN\n",
       "7   [3]  NaN  NaN\n",
       "8   [3]  NaN  NaN\n",
       "9   [1]  NaN  NaN\n",
       "10  [1]  [1]  [1]\n",
       "11  [3]  NaN  NaN\n",
       "12  [3]  NaN  NaN\n",
       "13  [1]  [1]  [1]\n",
       "14  [3]  NaN  NaN\n",
       "15  [3]  NaN  NaN\n",
       "16  [1]  [1]  [1]\n",
       "17  [1]  NaN  NaN\n",
       "18  [1]  [1]  [1]\n",
       "19  [1]  NaN  NaN\n",
       "20  [1]  [1]  [1]\n",
       "21  [1]  [1]  [1]\n",
       "22  [1]  NaN  NaN\n",
       "23  [1]  [1]  [1]\n",
       "24  [1]  [1]  [1]"
      ],
      "text/html": "<div>\n<style scoped>\n    .dataframe tbody tr th:only-of-type {\n        vertical-align: middle;\n    }\n\n    .dataframe tbody tr th {\n        vertical-align: top;\n    }\n\n    .dataframe thead th {\n        text-align: right;\n    }\n</style>\n<table border=\"1\" class=\"dataframe\">\n  <thead>\n    <tr style=\"text-align: right;\">\n      <th></th>\n      <th>0</th>\n      <th>1</th>\n      <th>2</th>\n    </tr>\n  </thead>\n  <tbody>\n    <tr>\n      <th>0</th>\n      <td>[1]</td>\n      <td>[1]</td>\n      <td>[1]</td>\n    </tr>\n    <tr>\n      <th>1</th>\n      <td>[3]</td>\n      <td>NaN</td>\n      <td>NaN</td>\n    </tr>\n    <tr>\n      <th>2</th>\n      <td>[3]</td>\n      <td>NaN</td>\n      <td>NaN</td>\n    </tr>\n    <tr>\n      <th>3</th>\n      <td>[1]</td>\n      <td>[1]</td>\n      <td>[1]</td>\n    </tr>\n    <tr>\n      <th>4</th>\n      <td>[1]</td>\n      <td>NaN</td>\n      <td>NaN</td>\n    </tr>\n    <tr>\n      <th>5</th>\n      <td>[3]</td>\n      <td>NaN</td>\n      <td>NaN</td>\n    </tr>\n    <tr>\n      <th>6</th>\n      <td>[3]</td>\n      <td>NaN</td>\n      <td>NaN</td>\n    </tr>\n    <tr>\n      <th>7</th>\n      <td>[3]</td>\n      <td>NaN</td>\n      <td>NaN</td>\n    </tr>\n    <tr>\n      <th>8</th>\n      <td>[3]</td>\n      <td>NaN</td>\n      <td>NaN</td>\n    </tr>\n    <tr>\n      <th>9</th>\n      <td>[1]</td>\n      <td>NaN</td>\n      <td>NaN</td>\n    </tr>\n    <tr>\n      <th>10</th>\n      <td>[1]</td>\n      <td>[1]</td>\n      <td>[1]</td>\n    </tr>\n    <tr>\n      <th>11</th>\n      <td>[3]</td>\n      <td>NaN</td>\n      <td>NaN</td>\n    </tr>\n    <tr>\n      <th>12</th>\n      <td>[3]</td>\n      <td>NaN</td>\n      <td>NaN</td>\n    </tr>\n    <tr>\n      <th>13</th>\n      <td>[1]</td>\n      <td>[1]</td>\n      <td>[1]</td>\n    </tr>\n    <tr>\n      <th>14</th>\n      <td>[3]</td>\n      <td>NaN</td>\n      <td>NaN</td>\n    </tr>\n    <tr>\n      <th>15</th>\n      <td>[3]</td>\n      <td>NaN</td>\n      <td>NaN</td>\n    </tr>\n    <tr>\n      <th>16</th>\n      <td>[1]</td>\n      <td>[1]</td>\n      <td>[1]</td>\n    </tr>\n    <tr>\n      <th>17</th>\n      <td>[1]</td>\n      <td>NaN</td>\n      <td>NaN</td>\n    </tr>\n    <tr>\n      <th>18</th>\n      <td>[1]</td>\n      <td>[1]</td>\n      <td>[1]</td>\n    </tr>\n    <tr>\n      <th>19</th>\n      <td>[1]</td>\n      <td>NaN</td>\n      <td>NaN</td>\n    </tr>\n    <tr>\n      <th>20</th>\n      <td>[1]</td>\n      <td>[1]</td>\n      <td>[1]</td>\n    </tr>\n    <tr>\n      <th>21</th>\n      <td>[1]</td>\n      <td>[1]</td>\n      <td>[1]</td>\n    </tr>\n    <tr>\n      <th>22</th>\n      <td>[1]</td>\n      <td>NaN</td>\n      <td>NaN</td>\n    </tr>\n    <tr>\n      <th>23</th>\n      <td>[1]</td>\n      <td>[1]</td>\n      <td>[1]</td>\n    </tr>\n    <tr>\n      <th>24</th>\n      <td>[1]</td>\n      <td>[1]</td>\n      <td>[1]</td>\n    </tr>\n  </tbody>\n</table>\n</div>"
     },
     "metadata": {},
     "execution_count": 22
    }
   ],
   "source": [
    "# get delivery demand\n",
    "\n",
    "jobs.apply(\n",
    "    lambda job: pd.json_normalize(job['deliveries'])['demand'],\n",
    "    axis=1\n",
    ")"
   ]
  },
  {
   "cell_type": "code",
   "execution_count": 23,
   "metadata": {},
   "outputs": [
    {
     "output_type": "execute_result",
     "data": {
      "text/plain": [
       "                                       count\n",
       "loc                                         \n",
       "52.46511694386838,13.297678183052604       1\n",
       "52.47024351434404,13.367425628544071       1\n",
       "52.47158077561322,13.428073908706715       1\n",
       "52.47402861212452,13.511200299551914       1\n",
       "52.47592514299791,13.363600724841861       1\n",
       "52.476201585973165,13.465323704730976      1\n",
       "52.48294772163354,13.506479369983362       1\n",
       "52.494441122410066,13.310976910089025      1\n",
       "52.500197154330266,13.420403735758104      1\n",
       "52.50263354865453,13.443817569844178       1\n",
       "52.50601472844027,13.288290177111673       1\n",
       "52.50703402082462,13.36611173675           1\n",
       "52.5215765677699,13.446670620106056        1\n",
       "52.52461565066991,13.510107707502101       1\n",
       "52.524929709147,13.408782685962032         1\n",
       "52.53200564113312,13.42332771022335        1\n",
       "52.534437895314994,13.418400760021767      1\n",
       "52.53547355974564,13.38932634253887        1\n",
       "52.54011660677818,13.299474923444155       1\n",
       "52.548700921288,13.411171156521123         1\n",
       "52.5507449600896,13.33168589554917         1\n",
       "52.55514866164717,13.32947520110726        1\n",
       "52.55560249449142,13.319178280051151       1\n",
       "52.55808635551934,13.473105914941645       1\n",
       "52.55825840730948,13.31659828365158        1"
      ],
      "text/html": "<div>\n<style scoped>\n    .dataframe tbody tr th:only-of-type {\n        vertical-align: middle;\n    }\n\n    .dataframe tbody tr th {\n        vertical-align: top;\n    }\n\n    .dataframe thead th {\n        text-align: right;\n    }\n</style>\n<table border=\"1\" class=\"dataframe\">\n  <thead>\n    <tr style=\"text-align: right;\">\n      <th></th>\n      <th>count</th>\n    </tr>\n    <tr>\n      <th>loc</th>\n      <th></th>\n    </tr>\n  </thead>\n  <tbody>\n    <tr>\n      <th>52.46511694386838,13.297678183052604</th>\n      <td>1</td>\n    </tr>\n    <tr>\n      <th>52.47024351434404,13.367425628544071</th>\n      <td>1</td>\n    </tr>\n    <tr>\n      <th>52.47158077561322,13.428073908706715</th>\n      <td>1</td>\n    </tr>\n    <tr>\n      <th>52.47402861212452,13.511200299551914</th>\n      <td>1</td>\n    </tr>\n    <tr>\n      <th>52.47592514299791,13.363600724841861</th>\n      <td>1</td>\n    </tr>\n    <tr>\n      <th>52.476201585973165,13.465323704730976</th>\n      <td>1</td>\n    </tr>\n    <tr>\n      <th>52.48294772163354,13.506479369983362</th>\n      <td>1</td>\n    </tr>\n    <tr>\n      <th>52.494441122410066,13.310976910089025</th>\n      <td>1</td>\n    </tr>\n    <tr>\n      <th>52.500197154330266,13.420403735758104</th>\n      <td>1</td>\n    </tr>\n    <tr>\n      <th>52.50263354865453,13.443817569844178</th>\n      <td>1</td>\n    </tr>\n    <tr>\n      <th>52.50601472844027,13.288290177111673</th>\n      <td>1</td>\n    </tr>\n    <tr>\n      <th>52.50703402082462,13.36611173675</th>\n      <td>1</td>\n    </tr>\n    <tr>\n      <th>52.5215765677699,13.446670620106056</th>\n      <td>1</td>\n    </tr>\n    <tr>\n      <th>52.52461565066991,13.510107707502101</th>\n      <td>1</td>\n    </tr>\n    <tr>\n      <th>52.524929709147,13.408782685962032</th>\n      <td>1</td>\n    </tr>\n    <tr>\n      <th>52.53200564113312,13.42332771022335</th>\n      <td>1</td>\n    </tr>\n    <tr>\n      <th>52.534437895314994,13.418400760021767</th>\n      <td>1</td>\n    </tr>\n    <tr>\n      <th>52.53547355974564,13.38932634253887</th>\n      <td>1</td>\n    </tr>\n    <tr>\n      <th>52.54011660677818,13.299474923444155</th>\n      <td>1</td>\n    </tr>\n    <tr>\n      <th>52.548700921288,13.411171156521123</th>\n      <td>1</td>\n    </tr>\n    <tr>\n      <th>52.5507449600896,13.33168589554917</th>\n      <td>1</td>\n    </tr>\n    <tr>\n      <th>52.55514866164717,13.32947520110726</th>\n      <td>1</td>\n    </tr>\n    <tr>\n      <th>52.55560249449142,13.319178280051151</th>\n      <td>1</td>\n    </tr>\n    <tr>\n      <th>52.55808635551934,13.473105914941645</th>\n      <td>1</td>\n    </tr>\n    <tr>\n      <th>52.55825840730948,13.31659828365158</th>\n      <td>1</td>\n    </tr>\n  </tbody>\n</table>\n</div>"
     },
     "metadata": {},
     "execution_count": 23
    }
   ],
   "source": [
    "# group subjobs by the same location\n",
    "\n",
    "subjob_type='deliveries'\n",
    "subjob_idx=0\n",
    "place_idx=0\n",
    "\n",
    "def loc_to_key(loc):\n",
    "    return \"{},{}\".format(loc['lat'], loc['lng'])\n",
    "\n",
    "pickup_locations = jobs.apply(\n",
    "    lambda job: pd.Series({'loc': loc_to_key(job[subjob_type][subjob_idx]['places'][place_idx]['location']), 'count': 1 }),\n",
    "    axis=1\n",
    ")\n",
    "\n",
    "pickup_locations.groupby('loc').count()\n"
   ]
  },
  {
   "source": [
    "# Fleet"
   ],
   "cell_type": "markdown",
   "metadata": {}
  },
  {
   "cell_type": "code",
   "execution_count": 24,
   "metadata": {},
   "outputs": [
    {
     "output_type": "execute_result",
     "data": {
      "text/plain": [
       "    typeId  amount  shifts                                     shift time [0]  \\\n",
       "0  vehicle       5       1  2020-05-01T09:00:00.00Z - 2020-05-01T18:00:00.00Z   \n",
       "\n",
       "  capacity  \n",
       "0     [20]  "
      ],
      "text/html": "<div>\n<style scoped>\n    .dataframe tbody tr th:only-of-type {\n        vertical-align: middle;\n    }\n\n    .dataframe tbody tr th {\n        vertical-align: top;\n    }\n\n    .dataframe thead th {\n        text-align: right;\n    }\n</style>\n<table border=\"1\" class=\"dataframe\">\n  <thead>\n    <tr style=\"text-align: right;\">\n      <th></th>\n      <th>typeId</th>\n      <th>amount</th>\n      <th>shifts</th>\n      <th>shift time [0]</th>\n      <th>capacity</th>\n    </tr>\n  </thead>\n  <tbody>\n    <tr>\n      <th>0</th>\n      <td>vehicle</td>\n      <td>5</td>\n      <td>1</td>\n      <td>2020-05-01T09:00:00.00Z - 2020-05-01T18:00:00.00Z</td>\n      <td>[20]</td>\n    </tr>\n  </tbody>\n</table>\n</div>"
     },
     "metadata": {},
     "execution_count": 24
    }
   ],
   "source": [
    "# get vehicle summary\n",
    "\n",
    "fleet = problem['fleet']\n",
    "vehicles = pd.json_normalize(fleet, record_path=['vehicles'])\n",
    "\n",
    "\n",
    "def get_shift_time(vehicle):\n",
    "    shift = vehicle['shifts'][0]\n",
    "    shift_time = shift['start']['earliest']\n",
    "    if 'end' in shift:\n",
    "        return \"{} - {}\".format(shift_time, shift['end']['latest'])\n",
    "    else:\n",
    "        return shift_time\n",
    "\n",
    "vehicle_summary = vehicles.apply(lambda vehicle: pd.concat([\n",
    "    pd.Series(\n",
    "        [vehicle['typeId'], len(vehicle['vehicleIds']), len(vehicle['shifts']), get_shift_time(vehicle), vehicle['capacity']], \n",
    "        index=['typeId', 'amount', 'shifts', 'shift time [0]', 'capacity']),\n",
    "    vehicle.filter(regex = 'skills*')]), axis=1\n",
    ")\n",
    "\n",
    "vehicle_summary"
   ]
  },
  {
   "cell_type": "code",
   "execution_count": 25,
   "metadata": {},
   "outputs": [
    {
     "output_type": "execute_result",
     "data": {
      "text/plain": [
       "                 count\n",
       "loc                   \n",
       "52.4181,13.4637      1"
      ],
      "text/html": "<div>\n<style scoped>\n    .dataframe tbody tr th:only-of-type {\n        vertical-align: middle;\n    }\n\n    .dataframe tbody tr th {\n        vertical-align: top;\n    }\n\n    .dataframe thead th {\n        text-align: right;\n    }\n</style>\n<table border=\"1\" class=\"dataframe\">\n  <thead>\n    <tr style=\"text-align: right;\">\n      <th></th>\n      <th>count</th>\n    </tr>\n    <tr>\n      <th>loc</th>\n      <th></th>\n    </tr>\n  </thead>\n  <tbody>\n    <tr>\n      <th>52.4181,13.4637</th>\n      <td>1</td>\n    </tr>\n  </tbody>\n</table>\n</div>"
     },
     "metadata": {},
     "execution_count": 25
    }
   ],
   "source": [
    "# get shift start location distribution\n",
    "shift_idx=0\n",
    "\n",
    "def loc_to_key(loc):\n",
    "    return \"{},{}\".format(loc['lat'], loc['lng'])\n",
    "\n",
    "shift_locations = vehicles.apply(\n",
    "    lambda vehicle: pd.Series({'loc': loc_to_key(vehicle['shifts'][shift_idx]['start']['location']), 'count': 1 }),\n",
    "    axis=1\n",
    ")\n",
    "\n",
    "shift_locations.groupby('loc').count()"
   ]
  },
  {
   "cell_type": "code",
   "execution_count": 26,
   "metadata": {},
   "outputs": [
    {
     "output_type": "execute_result",
     "data": {
      "text/plain": [
       "                         count\n",
       "loc                           \n",
       "2020-05-01T09:00:00.00Z      1"
      ],
      "text/html": "<div>\n<style scoped>\n    .dataframe tbody tr th:only-of-type {\n        vertical-align: middle;\n    }\n\n    .dataframe tbody tr th {\n        vertical-align: top;\n    }\n\n    .dataframe thead th {\n        text-align: right;\n    }\n</style>\n<table border=\"1\" class=\"dataframe\">\n  <thead>\n    <tr style=\"text-align: right;\">\n      <th></th>\n      <th>count</th>\n    </tr>\n    <tr>\n      <th>loc</th>\n      <th></th>\n    </tr>\n  </thead>\n  <tbody>\n    <tr>\n      <th>2020-05-01T09:00:00.00Z</th>\n      <td>1</td>\n    </tr>\n  </tbody>\n</table>\n</div>"
     },
     "metadata": {},
     "execution_count": 26
    }
   ],
   "source": [
    "# get shift start location distribution\n",
    "shift_idx=0\n",
    "\n",
    "shift_locations = vehicles.apply(\n",
    "    lambda vehicle: pd.Series({'loc': vehicle['shifts'][shift_idx]['start']['earliest'], 'count': 1 }),\n",
    "    axis=1\n",
    ")\n",
    "\n",
    "shift_locations.groupby('loc').count()"
   ]
  },
  {
   "source": [
    "# Visualize on map"
   ],
   "cell_type": "markdown",
   "metadata": {}
  },
  {
   "source": [
    "## get all jobs locations"
   ],
   "cell_type": "markdown",
   "metadata": {}
  },
  {
   "cell_type": "code",
   "execution_count": 27,
   "metadata": {},
   "outputs": [],
   "source": [
    "def extract_subjobs_locations(subjobs):\n",
    "    locations = []\n",
    "    for subjob in subjobs:\n",
    "        for place in subjob['places']:\n",
    "            locations.append(place['location'])\n",
    "    \n",
    "    return locations\n",
    "\n",
    "def extract_all_job_locations(job):\n",
    "    # TODO make sure no conflicts here\n",
    "    subjob_types = [{ 'key': 'pickups', 'type': 'pickup' }, { 'key': 'deliveries', 'type': 'delivery' }]\n",
    "    locations_map = {}\n",
    "\n",
    "    for subjob_type in subjob_types:\n",
    "        if subjob_type['key'] in job:\n",
    "            locations_map[subjob_type['type']] = extract_subjobs_locations(job[subjob_type['key']])\n",
    "    \n",
    "    return locations_map\n",
    "\n",
    "\n",
    "jobs_locations = jobs.apply(lambda job: extract_all_job_locations(job), axis=1)\n"
   ]
  },
  {
   "source": [
    "## get all vehicles locations"
   ],
   "cell_type": "markdown",
   "metadata": {}
  },
  {
   "cell_type": "code",
   "execution_count": 28,
   "metadata": {},
   "outputs": [],
   "source": [
    "# get vehicle locations\n",
    "def extract_all_vehicle_locations(vehicle):\n",
    "    locations_map = {\n",
    "        'start' : [],\n",
    "        'end' : [],\n",
    "        'break': []\n",
    "    }\n",
    "\n",
    "    for shift in vehicle['shifts']:\n",
    "        locations_map['start'].append(shift['start']['location'])\n",
    "\n",
    "        if 'end' in shift:\n",
    "            locations_map['end'].append(shift['end']['location'])\n",
    "\n",
    "        if 'breaks' in shift:\n",
    "            for br in shift['breaks']:\n",
    "                if 'location' in br:\n",
    "                    locations_map['break'].append(br['location'])\n",
    "\n",
    "    return locations_map\n",
    "\n",
    "\n",
    "vehicles_locations = vehicles.apply(lambda vehicle: extract_all_vehicle_locations(vehicle), axis=1)"
   ]
  },
  {
   "source": [
    "## create geojson"
   ],
   "cell_type": "markdown",
   "metadata": {}
  },
  {
   "cell_type": "code",
   "execution_count": 29,
   "metadata": {},
   "outputs": [],
   "source": [
    "geojson_data = {\n",
    "    'type': 'FeatureCollection',\n",
    "    'features': []\n",
    "}\n",
    "\n",
    "all_locations = []\n",
    "\n",
    "# NOTE would be better to get bounds automatically from ipyleaflet\n",
    "def get_bounds(locations):\n",
    "    min_lat = 200\n",
    "    min_lon = 200\n",
    "    max_lat = -200\n",
    "    max_lon = -200\n",
    "\n",
    "    for location in locations:\n",
    "        if min_lat > location[1]:\n",
    "            min_lat = location[1]\n",
    "\n",
    "        if min_lon > location[0]:\n",
    "            min_lon = location[0]\n",
    "        \n",
    "        if max_lat < location[1]:\n",
    "            max_lat = location[1]\n",
    "        \n",
    "        if max_lon < location[0]:\n",
    "            max_lon = location[0]\n",
    "\n",
    "    return ((min_lat, min_lon), (max_lat, max_lon))\n",
    "\n",
    "def create_point(style_type, location):\n",
    "    return {\n",
    "        'type': 'Feature',\n",
    "        'properties': {\n",
    "            'type': style_type\n",
    "        },\n",
    "        'geometry': {\n",
    "            'type': 'Point',\n",
    "            'coordinates': location\n",
    "        }\n",
    "    }\n",
    "\n",
    "def add_locations(style_type, location):\n",
    "    for location in locations:\n",
    "        location = location['lng'], location['lat']\n",
    "        all_locations.append(location)\n",
    "        geojson_data['features'].append(create_point(style_type, location))\n",
    "\n",
    "for job_location_map in jobs_locations:\n",
    "    for style_type, locations in job_location_map.items():\n",
    "        add_locations(style_type, locations)\n",
    "\n",
    "for vehicle_location_map in vehicles_locations:\n",
    "    for style_type, locations in vehicle_location_map.items():\n",
    "        add_locations(style_type, locations)\n",
    "\n",
    "bounds = get_bounds(all_locations)"
   ]
  },
  {
   "source": [
    "## visualize geojson"
   ],
   "cell_type": "markdown",
   "metadata": {}
  },
  {
   "cell_type": "code",
   "execution_count": 30,
   "metadata": {
    "tags": []
   },
   "outputs": [
    {
     "output_type": "display_data",
     "data": {
      "text/plain": "Map(center=[0, 0], controls=(ZoomControl(options=['position', 'zoom_in_text', 'zoom_in_title', 'zoom_out_text'…",
      "application/vnd.jupyter.widget-view+json": {
       "version_major": 2,
       "version_minor": 0,
       "model_id": "556d3fba6e084a40a526da764cd65494"
      }
     },
     "metadata": {}
    }
   ],
   "source": [
    "from ipyleaflet import Map, GeoJSON\n",
    "\n",
    "def apply_style(feature):\n",
    "    style_type = feature['properties']['type']\n",
    "\n",
    "    if style_type == 'pickup':\n",
    "        return {'color': 'red', 'fillColor': 'blue'}\n",
    "\n",
    "    if style_type == 'delivery':\n",
    "        return {'color': 'blue', 'fillColor': 'purple'}\n",
    "    \n",
    "    if style_type == 'start':\n",
    "        return {'color': 'white', 'fillColor': 'black'}\n",
    "\n",
    "    if style_type == 'end':\n",
    "        return {'color': 'black', 'fillColor': 'white', 'radius': 10}\n",
    "\n",
    "    return {'color': 'yellow', 'fillColor': 'green'}\n",
    "\n",
    "m = Map(center=(0, 0), zoom=3)\n",
    "\n",
    "geojson_layer = GeoJSON(\n",
    "    data=geojson_data,\n",
    "    point_style={'radius': 5, 'weight': 3, 'fillOpacity': 0.5 },\n",
    "    style_callback=apply_style,\n",
    ")\n",
    "\n",
    "m.add_layer(geojson_layer)\n",
    "m.fit_bounds(bounds)\n",
    "\n",
    "m"
   ]
  }
 ]
}